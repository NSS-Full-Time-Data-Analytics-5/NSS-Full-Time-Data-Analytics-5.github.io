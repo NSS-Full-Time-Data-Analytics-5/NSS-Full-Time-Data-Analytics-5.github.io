{
 "cells": [
  {
   "cell_type": "markdown",
   "metadata": {},
   "source": [
    "To run this you will need to be at the same directory level as `utilities`\n",
    "\n",
    "If you haven't already cloned the `utilities` repo, you can find it here: https://github.com/NSS-Data-Instructional-Stuff/utilities\n",
    "\n",
    "If you run this from another location, you will have to modify the import statement accordingly"
   ]
  },
  {
   "cell_type": "code",
   "execution_count": 1,
   "metadata": {},
   "outputs": [],
   "source": [
    "from utilities import class_website"
   ]
  },
  {
   "cell_type": "code",
   "execution_count": 2,
   "metadata": {},
   "outputs": [],
   "source": [
    "path_to_csv = (\"C:/Users/14436/Documents/DDA5/NSS-Full-Time-Data-Analytics-5.github.io/dda5_class_website_info.csv\")"
   ]
  },
  {
   "cell_type": "code",
   "execution_count": 3,
   "metadata": {},
   "outputs": [
    {
     "name": "stdout",
     "output_type": "stream",
     "text": [
      "cohort.json created: C:/Users/14436/Documents/DDA5/NSS-Full-Time-Data-Analytics-5.github.io/cohort.json\n"
     ]
    }
   ],
   "source": [
    "class_website.make_cohort_json(path_to_csv)"
   ]
  },
  {
   "cell_type": "code",
   "execution_count": 4,
   "metadata": {},
   "outputs": [],
   "source": [
    "img_dir = (\"C:/Users/14436/Documents/DDA5/NSS-Full-Time-Data-Analytics-5.github.io/assets/img\")"
   ]
  },
  {
   "cell_type": "code",
   "execution_count": 5,
   "metadata": {},
   "outputs": [
    {
     "name": "stdout",
     "output_type": "stream",
     "text": [
      "max_ar:  0.9211428571428572\n",
      "new height for Andrea1.jpg:  1728\n",
      "Andrea2.jpg does not have dpi attribute\n",
      "Andreas1.jpg does not have dpi attribute\n",
      "new width for Andreas1.jpg:  734\n",
      "Andreas2.jpg does not have dpi attribute\n",
      "Andreas2.png does not have dpi attribute\n",
      "Andrew1.jpg does not have dpi attribute\n",
      "new height for Andrew1.jpg:  274\n",
      "Andrew1.png does not have dpi attribute\n",
      "new height for Andrew1.png:  274\n",
      "Andrew2.jpg does not have dpi attribute\n",
      "Andrew2.png does not have dpi attribute\n",
      "new height for Dakota1.jpg:  1750\n",
      "new height for Ella1.jpg:  3648\n",
      "new width for Elliot1.jpg:  472\n",
      "Elliot2.jpg does not have dpi attribute\n",
      "Elliot2.png does not have dpi attribute\n",
      "Harrison1.JPG does not have dpi attribute\n",
      "new width for Harrison1.JPG:  99\n",
      "Harrison2.JPG does not have dpi attribute\n",
      "Jacob1.jpeg does not have dpi attribute\n",
      "new height for Jacob1.jpeg:  834\n",
      "Jacob1.jpg does not have dpi attribute\n",
      "new height for Jacob1.jpg:  834\n",
      "new width for Milton1.jpg:  622\n",
      "Myles1.jfif does not have dpi attribute\n",
      "new height for Myles1.jfif:  868\n",
      "Myles1.jpg does not have dpi attribute\n",
      "new height for Myles1.jpg:  868\n",
      "Myles2.jpg does not have dpi attribute\n",
      "Myles2.png does not have dpi attribute\n",
      "new height for Olariche1.jpg:  2764\n",
      "new width for pablo1.jpg:  3095\n",
      "Patrick1.jpg does not have dpi attribute\n",
      "new height for Patrick1.jpg:  274\n",
      "Patrick1.png does not have dpi attribute\n",
      "new height for Patrick1.png:  274\n",
      "Patrick2.jpg does not have dpi attribute\n",
      "new height for Pooja1.jpg:  2605\n",
      "Scott1.jpg does not have dpi attribute\n",
      "new height for Scott1.jpg:  274\n",
      "Scott1.png does not have dpi attribute\n",
      "new height for Scott1.png:  274\n",
      "Scott2.jpg does not have dpi attribute\n",
      "Scott2.png does not have dpi attribute\n",
      "new height for Suzanne1.jpg:  2605\n",
      "new width for Thomas1.jpg:  2786\n",
      "Thomas2.jpg does not have dpi attribute\n",
      "Thomas2.png does not have dpi attribute\n",
      "Tigist1.jpg does not have dpi attribute\n",
      "new height for Tigist1.jpg:  906\n",
      "Tigist2.jpg does not have dpi attribute\n",
      "Zach1.jpg does not have dpi attribute\n",
      "new height for Zach1.jpg:  274\n",
      "Zach1.png does not have dpi attribute\n",
      "new height for Zach1.png:  274\n",
      "Zach2.jpg does not have dpi attribute\n",
      "Zach2.png does not have dpi attribute\n",
      "prepared all images in C:/Users/14436/Documents/DDA5/NSS-Full-Time-Data-Analytics-5.github.io/assets/img\n"
     ]
    }
   ],
   "source": [
    "class_website.prepare_images(img_dir)"
   ]
  },
  {
   "cell_type": "code",
   "execution_count": null,
   "metadata": {},
   "outputs": [],
   "source": []
  }
 ],
 "metadata": {
  "kernelspec": {
   "display_name": "Python 3",
   "language": "python",
   "name": "python3"
  },
  "language_info": {
   "codemirror_mode": {
    "name": "ipython",
    "version": 3
   },
   "file_extension": ".py",
   "mimetype": "text/x-python",
   "name": "python",
   "nbconvert_exporter": "python",
   "pygments_lexer": "ipython3",
   "version": "3.8.3"
  }
 },
 "nbformat": 4,
 "nbformat_minor": 4
}
