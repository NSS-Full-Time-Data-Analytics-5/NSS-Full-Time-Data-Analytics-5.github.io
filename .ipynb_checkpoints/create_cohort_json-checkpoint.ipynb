{
 "cells": [
  {
   "cell_type": "markdown",
   "metadata": {},
   "source": [
    "To run this you will need to be at the same directory level as `utilities`\n",
    "\n",
    "If you haven't already cloned the `utilities` repo, you can find it here: https://github.com/NSS-Data-Instructional-Stuff/utilities\n",
    "\n",
    "If you run this from another location, you will have to modify the import statement accordingly"
   ]
  },
  {
   "cell_type": "code",
   "execution_count": 1,
   "metadata": {},
   "outputs": [
    {
     "ename": "ModuleNotFoundError",
     "evalue": "No module named 'utilities'",
     "output_type": "error",
     "traceback": [
      "\u001b[1;31m---------------------------------------------------------------------------\u001b[0m",
      "\u001b[1;31mModuleNotFoundError\u001b[0m                       Traceback (most recent call last)",
      "\u001b[1;32m<ipython-input-1-1b1286fe4786>\u001b[0m in \u001b[0;36m<module>\u001b[1;34m\u001b[0m\n\u001b[1;32m----> 1\u001b[1;33m \u001b[1;32mfrom\u001b[0m \u001b[0mutilities\u001b[0m \u001b[1;32mimport\u001b[0m \u001b[0mclass_website\u001b[0m\u001b[1;33m\u001b[0m\u001b[1;33m\u001b[0m\u001b[0m\n\u001b[0m",
      "\u001b[1;31mModuleNotFoundError\u001b[0m: No module named 'utilities'"
     ]
    }
   ],
   "source": [
    "from utilities import class_website"
   ]
  },
  {
   "cell_type": "code",
   "execution_count": 2,
   "metadata": {},
   "outputs": [],
   "source": [
    "path_to_csv = (\"C:/Users/14436/Documents/DDA5/NSS-Full-Time-Data-Analytics-5.github.io/dda5_class_website_info.csv\")"
   ]
  },
  {
   "cell_type": "code",
   "execution_count": 4,
   "metadata": {},
   "outputs": [
    {
     "name": "stdout",
     "output_type": "stream",
     "text": [
      "cohort.json created: C:/Users/14436/Documents/NSS/Class_DDA4/NSS-Full-Time-Data-Analytics-4.github.io/cohort.json\n"
     ]
    }
   ],
   "source": [
    "class_website.make_cohort_json(path_to_csv)"
   ]
  },
  {
   "cell_type": "code",
   "execution_count": 5,
   "metadata": {},
   "outputs": [],
   "source": [
    "img_dir = (\"C:/Users/14436/Documents/NSS/class_DDA4/NSS-Full-Time-Data-Analytics-4.github.io/assets/img\")"
   ]
  },
  {
   "cell_type": "code",
   "execution_count": 7,
   "metadata": {},
   "outputs": [
    {
     "name": "stdout",
     "output_type": "stream",
     "text": [
      "max_ar:  0.8016666666666666\n",
      "new height for david1.jpg:  510\n",
      "david2.jpg does not have dpi attribute\n",
      "dda4_class_picture.jpg does not have dpi attribute\n",
      "new height for eric1.jpg:  938\n",
      "eric2.jpg does not have dpi attribute\n",
      "new height for Holliday1.jpg:  4191\n",
      "new height for jonathan1.jpg:  1546\n",
      "jonathan2.jpg does not have dpi attribute\n",
      "new height for julien1.jpg:  631\n",
      "julien2.jpg does not have dpi attribute\n",
      "new height for mallory1.jpg:  4590\n",
      "mallory2.jpg does not have dpi attribute\n",
      "new width for omoniyi1.jpg:  834\n",
      "new height for Patrick1.jpg:  4191\n",
      "new height for preston1.jpg:  4191\n",
      "new height for Rachel1.jpg:  4191\n",
      "new height for Robert1.jpg:  4191\n",
      "new height for ryan1.jpg:  412\n",
      "ryan2.jpg does not have dpi attribute\n",
      "new height for Samantha1.jpg:  4079\n",
      "new height for scott1.jpg:  600\n",
      "scott2.jpg does not have dpi attribute\n",
      "new height for Simon1.jpg:  4191\n",
      "new height for sudeep1.jpg:  4549\n",
      "sudeep2.jpg does not have dpi attribute\n",
      "new height for toni1.jpg:  4191\n",
      "new height for Zenon1.JPG:  1372\n",
      "prepared all images in C:/Users/14436/Documents/NSS/class_DDA4/NSS-Full-Time-Data-Analytics-4.github.io/assets/img\n"
     ]
    }
   ],
   "source": [
    "class_website.prepare_images(img_dir)"
   ]
  },
  {
   "cell_type": "code",
   "execution_count": null,
   "metadata": {},
   "outputs": [],
   "source": []
  }
 ],
 "metadata": {
  "kernelspec": {
   "display_name": "Python 3",
   "language": "python",
   "name": "python3"
  },
  "language_info": {
   "codemirror_mode": {
    "name": "ipython",
    "version": 3
   },
   "file_extension": ".py",
   "mimetype": "text/x-python",
   "name": "python",
   "nbconvert_exporter": "python",
   "pygments_lexer": "ipython3",
   "version": "3.8.3"
  }
 },
 "nbformat": 4,
 "nbformat_minor": 4
}
